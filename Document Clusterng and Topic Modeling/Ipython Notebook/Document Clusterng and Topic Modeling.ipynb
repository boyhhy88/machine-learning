{
 "cells": [
  {
   "cell_type": "markdown",
   "metadata": {},
   "source": [
    "# Document Clusterng and Topic Modeling"
   ]
  },
  {
   "cell_type": "markdown",
   "metadata": {},
   "source": [
    "In this project, we use unsupervised learning models to cluster unlabeled documents into different groups, visualize the results and identify their latent topics/structures."
   ]
  },
  {
   "cell_type": "code",
   "execution_count": 1,
   "metadata": {},
   "outputs": [],
   "source": [
    "import warnings\n",
    "warnings.filterwarnings('ignore')\n",
    "\n",
    "import numpy as np\n",
    "import pandas as pd\n",
    "\n",
    "import matplotlib.pyplot as plt\n",
    "%matplotlib inline\n",
    "import seaborn as sns\n",
    "\n",
    "from sklearn.feature_extraction.text import TfidfVectorizer\n",
    "from sklearn.metrics.pairwise import cosine_similarity\n",
    "from sklearn.cluster import KMeans\n",
    "from sklearn.decomposition import PCA\n",
    "\n",
    "import re # This module provides regular expression matching operations\n",
    "\n",
    "import nltk\n",
    "from nltk.stem.snowball import SnowballStemmer\n",
    "from nltk.tokenize import sent_tokenize, word_tokenize\n",
    "\n",
    "import lda"
   ]
  },
  {
   "cell_type": "markdown",
   "metadata": {},
   "source": [
    "## 1. Load Data"
   ]
  },
  {
   "cell_type": "markdown",
   "metadata": {},
   "source": [
    "Data Source: https://www.kaggle.com/snapcrack/all-the-news"
   ]
  },
  {
   "cell_type": "code",
   "execution_count": 2,
   "metadata": {},
   "outputs": [],
   "source": [
    "# Read the source file\n",
    "\n",
    "docs_df = pd.read_csv('articles2.csv')"
   ]
  },
  {
   "cell_type": "code",
   "execution_count": 3,
   "metadata": {},
   "outputs": [
    {
     "data": {
      "text/html": [
       "<div>\n",
       "<style scoped>\n",
       "    .dataframe tbody tr th:only-of-type {\n",
       "        vertical-align: middle;\n",
       "    }\n",
       "\n",
       "    .dataframe tbody tr th {\n",
       "        vertical-align: top;\n",
       "    }\n",
       "\n",
       "    .dataframe thead th {\n",
       "        text-align: right;\n",
       "    }\n",
       "</style>\n",
       "<table border=\"1\" class=\"dataframe\">\n",
       "  <thead>\n",
       "    <tr style=\"text-align: right;\">\n",
       "      <th></th>\n",
       "      <th>Unnamed: 0</th>\n",
       "      <th>id</th>\n",
       "      <th>title</th>\n",
       "      <th>publication</th>\n",
       "      <th>author</th>\n",
       "      <th>date</th>\n",
       "      <th>year</th>\n",
       "      <th>month</th>\n",
       "      <th>url</th>\n",
       "      <th>content</th>\n",
       "    </tr>\n",
       "  </thead>\n",
       "  <tbody>\n",
       "    <tr>\n",
       "      <th>0</th>\n",
       "      <td>53293</td>\n",
       "      <td>73471</td>\n",
       "      <td>Patriots Day Is Best When It Digs Past the Her...</td>\n",
       "      <td>Atlantic</td>\n",
       "      <td>David Sims</td>\n",
       "      <td>2017-01-11</td>\n",
       "      <td>2017.0</td>\n",
       "      <td>1.0</td>\n",
       "      <td>NaN</td>\n",
       "      <td>Patriots Day, Peter Berg’s new thriller that r...</td>\n",
       "    </tr>\n",
       "    <tr>\n",
       "      <th>1</th>\n",
       "      <td>53294</td>\n",
       "      <td>73472</td>\n",
       "      <td>A Break in the Search for the Origin of Comple...</td>\n",
       "      <td>Atlantic</td>\n",
       "      <td>Ed Yong</td>\n",
       "      <td>2017-01-11</td>\n",
       "      <td>2017.0</td>\n",
       "      <td>1.0</td>\n",
       "      <td>NaN</td>\n",
       "      <td>In Norse mythology, humans and our world were ...</td>\n",
       "    </tr>\n",
       "    <tr>\n",
       "      <th>2</th>\n",
       "      <td>53295</td>\n",
       "      <td>73474</td>\n",
       "      <td>Obama’s Ingenious Mention of Atticus Finch</td>\n",
       "      <td>Atlantic</td>\n",
       "      <td>Spencer Kornhaber</td>\n",
       "      <td>2017-01-11</td>\n",
       "      <td>2017.0</td>\n",
       "      <td>1.0</td>\n",
       "      <td>NaN</td>\n",
       "      <td>“If our democracy is to work in this increasin...</td>\n",
       "    </tr>\n",
       "    <tr>\n",
       "      <th>3</th>\n",
       "      <td>53296</td>\n",
       "      <td>73475</td>\n",
       "      <td>Donald Trump Meets, and Assails, the Press</td>\n",
       "      <td>Atlantic</td>\n",
       "      <td>David A. Graham</td>\n",
       "      <td>2017-01-11</td>\n",
       "      <td>2017.0</td>\n",
       "      <td>1.0</td>\n",
       "      <td>NaN</td>\n",
       "      <td>Updated on January 11 at 5:05 p. m. In his fir...</td>\n",
       "    </tr>\n",
       "    <tr>\n",
       "      <th>4</th>\n",
       "      <td>53297</td>\n",
       "      <td>73476</td>\n",
       "      <td>Trump: ’I Think’ Hacking Was Russian</td>\n",
       "      <td>Atlantic</td>\n",
       "      <td>Kaveh Waddell</td>\n",
       "      <td>2017-01-11</td>\n",
       "      <td>2017.0</td>\n",
       "      <td>1.0</td>\n",
       "      <td>NaN</td>\n",
       "      <td>Updated at 12:25 p. m. After months of equivoc...</td>\n",
       "    </tr>\n",
       "  </tbody>\n",
       "</table>\n",
       "</div>"
      ],
      "text/plain": [
       "   Unnamed: 0     id                                              title  \\\n",
       "0       53293  73471  Patriots Day Is Best When It Digs Past the Her...   \n",
       "1       53294  73472  A Break in the Search for the Origin of Comple...   \n",
       "2       53295  73474         Obama’s Ingenious Mention of Atticus Finch   \n",
       "3       53296  73475         Donald Trump Meets, and Assails, the Press   \n",
       "4       53297  73476               Trump: ’I Think’ Hacking Was Russian   \n",
       "\n",
       "  publication             author        date    year  month  url  \\\n",
       "0    Atlantic         David Sims  2017-01-11  2017.0    1.0  NaN   \n",
       "1    Atlantic            Ed Yong  2017-01-11  2017.0    1.0  NaN   \n",
       "2    Atlantic  Spencer Kornhaber  2017-01-11  2017.0    1.0  NaN   \n",
       "3    Atlantic    David A. Graham  2017-01-11  2017.0    1.0  NaN   \n",
       "4    Atlantic      Kaveh Waddell  2017-01-11  2017.0    1.0  NaN   \n",
       "\n",
       "                                             content  \n",
       "0  Patriots Day, Peter Berg’s new thriller that r...  \n",
       "1  In Norse mythology, humans and our world were ...  \n",
       "2  “If our democracy is to work in this increasin...  \n",
       "3  Updated on January 11 at 5:05 p. m. In his fir...  \n",
       "4  Updated at 12:25 p. m. After months of equivoc...  "
      ]
     },
     "execution_count": 3,
     "metadata": {},
     "output_type": "execute_result"
    }
   ],
   "source": [
    "docs_df.head(n = 5)"
   ]
  },
  {
   "cell_type": "code",
   "execution_count": 4,
   "metadata": {},
   "outputs": [],
   "source": [
    "# Randomly choose some documents as our dataset, and get the list of titles and contents\n",
    "\n",
    "samples = docs_df.sample(n = 100, random_state = 0)\n",
    "titles = samples['title'].tolist()\n",
    "contents = samples['content'].tolist()"
   ]
  },
  {
   "cell_type": "markdown",
   "metadata": {},
   "source": [
    "## 2. Tokenizing and Stemming"
   ]
  },
  {
   "cell_type": "markdown",
   "metadata": {},
   "source": [
    "Load stopwords and stemmer function from NLTK library. Stop words are words like \"a\", \"the\", \"in\" which don't convey significant meaning. Stemming is the process of breaking a word down into its root. "
   ]
  },
  {
   "cell_type": "code",
   "execution_count": 5,
   "metadata": {},
   "outputs": [
    {
     "name": "stdout",
     "output_type": "stream",
     "text": [
      "We use 153 stop words from nltk library, for example:\n",
      "['i', 'me', 'my', 'myself', 'we', 'our', 'ours', 'ourselves', 'you', 'your']\n"
     ]
    }
   ],
   "source": [
    "# Use nltk's English stopwords.\n",
    "stopwords = nltk.corpus.stopwords.words('english')\n",
    "print('We use', len(stopwords), 'stop words from nltk library, for example:')\n",
    "print(stopwords[:10])"
   ]
  },
  {
   "cell_type": "code",
   "execution_count": 6,
   "metadata": {},
   "outputs": [],
   "source": [
    "stemmer = SnowballStemmer(language = 'english')\n",
    "\n",
    "def tokenization_and_stemming(text):\n",
    "    \n",
    "    \"\"\"\n",
    "    Break the text into a list of words.\n",
    "    The words are converted to lower case.\n",
    "    The words in stopwords defined above are not included.\n",
    "    Words that don't contain letters are not included.\n",
    "    Strip the affixes, only return the words after stemming.\n",
    "    \"\"\"\n",
    "    \n",
    "    tokens = [word.lower() for sent in sent_tokenize(text) for word in word_tokenize(sent) if word not in stopwords]\n",
    "    filtered_tokens = [token for token in tokens if re.search('[a-zA-Z]', token) is not None]\n",
    "    stems = [stemmer.stem(t) for t in filtered_tokens]\n",
    "    \n",
    "    return stems\n",
    "\n",
    "# without stemming\n",
    "def tokenization(text):\n",
    "    \n",
    "    \"\"\"\n",
    "    Break the text into a list of words.\n",
    "    The words are converted to lower case.\n",
    "    The words in stopwords defined above are not included.\n",
    "    Words that don't contain letters are not included.\n",
    "    \"\"\"\n",
    "    \n",
    "    tokens = [word.lower() for sent in sent_tokenize(text) for word in word_tokenize(sent) if word not in stopwords]\n",
    "    filtered_tokens = [token for token in tokens if re.search('[a-zA-Z]', token) is not None]\n",
    "    return filtered_tokens"
   ]
  },
  {
   "cell_type": "code",
   "execution_count": 7,
   "metadata": {},
   "outputs": [
    {
     "name": "stdout",
     "output_type": "stream",
     "text": [
      "Number of stemmed words in the corpus: 40948\n",
      "Number of words (not stemmed) in the corpus: 40948\n"
     ]
    }
   ],
   "source": [
    "corpus_words_stemmed = [] # list of words (with stemming) in the whole corpus\n",
    "corpus_words = [] # list of words (without stemming) in the whole corpus\n",
    "\n",
    "for i in contents:\n",
    "    tokenized_stemmed = tokenization_and_stemming(i)\n",
    "    corpus_words_stemmed.extend(tokenized_stemmed)\n",
    "    tokenized = tokenization(i)\n",
    "    corpus_words.extend(tokenized)\n",
    "    \n",
    "print('Number of stemmed words in the corpus:', len(corpus_words_stemmed))\n",
    "print('Number of words (not stemmed) in the corpus:', len(corpus_words))"
   ]
  },
  {
   "cell_type": "markdown",
   "metadata": {},
   "source": [
    "Create a mapping from stemmed words to the original words for result interpretation."
   ]
  },
  {
   "cell_type": "code",
   "execution_count": 8,
   "metadata": {},
   "outputs": [
    {
     "name": "stdout",
     "output_type": "stream",
     "text": [
      "For example, stemmed word: count ; original word: count\n"
     ]
    }
   ],
   "source": [
    "# Create a dictionary, the key is the stemmed word in the corpus, the value is its original word\n",
    "\n",
    "dict_stem_orig = {corpus_words_stemmed[x] : corpus_words[x] for x in range(len(corpus_words))}\n",
    "word_eg = 'count'\n",
    "print('For example, stemmed word:', word_eg, '; original word:', dict_stem_orig[word_eg])"
   ]
  },
  {
   "cell_type": "markdown",
   "metadata": {},
   "source": [
    "## 3. TF-IDF"
   ]
  },
  {
   "cell_type": "code",
   "execution_count": 9,
   "metadata": {},
   "outputs": [
    {
     "name": "stdout",
     "output_type": "stream",
     "text": [
      "In total, there are 100 documents and 513 terms\n"
     ]
    }
   ],
   "source": [
    "# From the corpus, choose some terms (using min_df and max_df parameters below), create a document-term matrix.\n",
    "# The words are stemmed.\n",
    "# Each row represents each document, each column represents each term.\n",
    "# The value in the matrix is the Tf-idf result. \n",
    "\n",
    "tfidf_model = TfidfVectorizer(min_df = 0.1, max_df = 0.9, max_features = 200000, stop_words = 'english', use_idf = True, \n",
    "                             tokenizer = tokenization_and_stemming, ngram_range = (1, 1))\n",
    "tfidf_matrix = tfidf_model.fit_transform(contents)     \n",
    "print ('In total, there are', str(tfidf_matrix.shape[0]), 'documents and', str(tfidf_matrix.shape[1]), 'terms')"
   ]
  },
  {
   "cell_type": "code",
   "execution_count": 10,
   "metadata": {},
   "outputs": [
    {
     "name": "stdout",
     "output_type": "stream",
     "text": [
      "TD-IDF model parameters:\n"
     ]
    },
    {
     "data": {
      "text/plain": [
       "{'analyzer': 'word',\n",
       " 'binary': False,\n",
       " 'decode_error': 'strict',\n",
       " 'dtype': numpy.float64,\n",
       " 'encoding': 'utf-8',\n",
       " 'input': 'content',\n",
       " 'lowercase': True,\n",
       " 'max_df': 0.9,\n",
       " 'max_features': 200000,\n",
       " 'min_df': 0.1,\n",
       " 'ngram_range': (1, 1),\n",
       " 'norm': 'l2',\n",
       " 'preprocessor': None,\n",
       " 'smooth_idf': True,\n",
       " 'stop_words': 'english',\n",
       " 'strip_accents': None,\n",
       " 'sublinear_tf': False,\n",
       " 'token_pattern': '(?u)\\\\b\\\\w\\\\w+\\\\b',\n",
       " 'tokenizer': <function __main__.tokenization_and_stemming(text)>,\n",
       " 'use_idf': True,\n",
       " 'vocabulary': None}"
      ]
     },
     "execution_count": 10,
     "metadata": {},
     "output_type": "execute_result"
    }
   ],
   "source": [
    "print('TD-IDF model parameters:')\n",
    "tfidf_model.get_params()"
   ]
  },
  {
   "cell_type": "markdown",
   "metadata": {},
   "source": [
    "Save the terms identified by TF-IDF."
   ]
  },
  {
   "cell_type": "code",
   "execution_count": 11,
   "metadata": {},
   "outputs": [
    {
     "name": "stdout",
     "output_type": "stream",
     "text": [
      "['abl', 'accord', 'account', 'accus', 'act', 'action', 'activ', 'actual', 'ad', 'addit', 'administr', 'affect', 'agenc', 'ago', 'air', 'alleg', 'allow', 'alreadi', 'alway', 'america']\n"
     ]
    }
   ],
   "source": [
    "# Save the words selected by the tf-idf model into a list. We will only analyze the documents based on these terms. \n",
    "\n",
    "tf_selected_words = tfidf_model.get_feature_names()\n",
    "print(tf_selected_words[:20])"
   ]
  },
  {
   "cell_type": "markdown",
   "metadata": {},
   "source": [
    "## 4. Calculate Cosine Similarity of the Documents"
   ]
  },
  {
   "cell_type": "code",
   "execution_count": 12,
   "metadata": {},
   "outputs": [
    {
     "name": "stdout",
     "output_type": "stream",
     "text": [
      "cosine similarity (comparing the first document with the rest):\n",
      " [1.         0.10605199 0.06261073 0.06194323 0.06389669 0.05562044\n",
      " 0.03583738 0.22274037 0.08565314 0.52615459 0.21472059 0.26703763\n",
      " 0.15413023 0.26037847 0.1186227  0.10695646 0.17056939 0.1397837\n",
      " 0.28485159 0.59795646 0.10886478 0.37819048 0.33854817 0.10527099\n",
      " 0.11698682 0.09634428 0.12664977 0.14261466 0.17681156 0.1504095\n",
      " 0.09959089 0.15641689 0.15312543 0.252025   0.477901   0.45393846\n",
      " 0.1260432  0.14861031 0.08516465 0.33461599 0.14350907 0.21760399\n",
      " 0.52599093 0.34145139 0.28900567 0.49012321 0.05090438 0.10129833\n",
      " 0.09714253 0.13106201 0.17761034 0.10568647 0.08325342 0.15245707\n",
      " 0.21359967 0.38613203 0.13316974 0.29615061 0.08538607 0.10868814\n",
      " 0.42878481 0.15352506 0.53095948 0.40169334 0.11010654 0.1113355\n",
      " 0.01779702 0.1536159  0.04275739 0.02990588 0.11083619 0.13925996\n",
      " 0.19745717 0.1453894  0.37174569 0.263913   0.33274268 0.09930003\n",
      " 0.25190444 0.37171596 0.04563849 0.29435454 0.01961797 0.37947399\n",
      " 0.07598472 0.10516913 0.23115228 0.05459208 0.07990582 0.03331422\n",
      " 0.5657545  0.07400997 0.05515863 0.11401505 0.0756084  0.03103405\n",
      " 0.11163289 0.20891624 0.38930548 0.53424517]\n"
     ]
    },
    {
     "data": {
      "image/png": "[encoded data removed]",
      "text/plain": [
       "<Figure size 432x288 with 2 Axes>"
      ]
     },
     "metadata": {
      "needs_background": "light"
     },
     "output_type": "display_data"
    }
   ],
   "source": [
    "cos_similarity_mat = cosine_similarity(tfidf_matrix)\n",
    "print('cosine similarity (comparing the first document with the rest):\\n', cos_similarity_mat[0])\n",
    "#fig = plt.figure(figsize = (10,8))\n",
    "g = sns.heatmap(cos_similarity_mat)"
   ]
  },
  {
   "cell_type": "markdown",
   "metadata": {},
   "source": [
    "## 5. K-Means Clustering"
   ]
  },
  {
   "cell_type": "code",
   "execution_count": 13,
   "metadata": {},
   "outputs": [],
   "source": [
    "# Run k-means clustering, assign the documents to different clusters.\n",
    "\n",
    "num_clusters = 5\n",
    "km = KMeans(n_clusters = num_clusters, random_state = 3)\n",
    "km.fit(tfidf_matrix)\n",
    "cluster_labels = km.labels_.tolist() # list of the assigned cluster of each document. The length equals the number of documents."
   ]
  },
  {
   "cell_type": "markdown",
   "metadata": {},
   "source": [
    "### 5.1 Analyze K-Means Result"
   ]
  },
  {
   "cell_type": "code",
   "execution_count": 14,
   "metadata": {},
   "outputs": [
    {
     "data": {
      "text/html": [
       "<div>\n",
       "<style scoped>\n",
       "    .dataframe tbody tr th:only-of-type {\n",
       "        vertical-align: middle;\n",
       "    }\n",
       "\n",
       "    .dataframe tbody tr th {\n",
       "        vertical-align: top;\n",
       "    }\n",
       "\n",
       "    .dataframe thead th {\n",
       "        text-align: right;\n",
       "    }\n",
       "</style>\n",
       "<table border=\"1\" class=\"dataframe\">\n",
       "  <thead>\n",
       "    <tr style=\"text-align: right;\">\n",
       "      <th></th>\n",
       "      <th>title</th>\n",
       "      <th>content</th>\n",
       "      <th>cluster</th>\n",
       "    </tr>\n",
       "  </thead>\n",
       "  <tbody>\n",
       "    <tr>\n",
       "      <th>4</th>\n",
       "      <td>Do Republicans Remember When They Promised The...</td>\n",
       "      <td>When   Donald Trump was stirring controversy a...</td>\n",
       "      <td>4</td>\n",
       "    </tr>\n",
       "    <tr>\n",
       "      <th>2</th>\n",
       "      <td>A Paralysed Man Can Play “Guitar Hero” Using ...</td>\n",
       "      <td>Ian Burkhart shouldn’t be able to move his ha...</td>\n",
       "      <td>2</td>\n",
       "    </tr>\n",
       "    <tr>\n",
       "      <th>2</th>\n",
       "      <td>’Keep Our State Straight!’</td>\n",
       "      <td>GOP nominee for attorney general lets loose at...</td>\n",
       "      <td>2</td>\n",
       "    </tr>\n",
       "    <tr>\n",
       "      <th>1</th>\n",
       "      <td>Charlie Sheen Behind $89,398 In Child Support...</td>\n",
       "      <td>Charlie Sheen’s   is claiming the “Two and Ha...</td>\n",
       "      <td>1</td>\n",
       "    </tr>\n",
       "    <tr>\n",
       "      <th>2</th>\n",
       "      <td>Horndogs are desperate to get arrested by this...</td>\n",
       "      <td>A German policewoman has been swamped with mes...</td>\n",
       "      <td>2</td>\n",
       "    </tr>\n",
       "    <tr>\n",
       "      <th>1</th>\n",
       "      <td>This bricklaying robot is going to destroy con...</td>\n",
       "      <td>Robot bricklayers are putting thousands of con...</td>\n",
       "      <td>1</td>\n",
       "    </tr>\n",
       "    <tr>\n",
       "      <th>2</th>\n",
       "      <td>‘The Daily Show’ skewers Sean Spicer’s press c...</td>\n",
       "      <td>“The Daily Show” took aim at White House Press...</td>\n",
       "      <td>2</td>\n",
       "    </tr>\n",
       "    <tr>\n",
       "      <th>0</th>\n",
       "      <td>4 GOP Senators Flag Concerns With Medicaid Cut...</td>\n",
       "      <td>Four Republicans senators hailing from states ...</td>\n",
       "      <td>0</td>\n",
       "    </tr>\n",
       "    <tr>\n",
       "      <th>0</th>\n",
       "      <td>Redesigned 390 Madison Ave. snags another trop...</td>\n",
       "      <td>The law has spoken at 390 Madison Ave.  —   an...</td>\n",
       "      <td>0</td>\n",
       "    </tr>\n",
       "    <tr>\n",
       "      <th>4</th>\n",
       "      <td>Trump is a party of one after he declares war ...</td>\n",
       "      <td>Donald Trump launched a political nuclear   on...</td>\n",
       "      <td>4</td>\n",
       "    </tr>\n",
       "  </tbody>\n",
       "</table>\n",
       "</div>"
      ],
      "text/plain": [
       "                                               title  \\\n",
       "4  Do Republicans Remember When They Promised The...   \n",
       "2   A Paralysed Man Can Play “Guitar Hero” Using ...   \n",
       "2                         ’Keep Our State Straight!’   \n",
       "1   Charlie Sheen Behind $89,398 In Child Support...   \n",
       "2  Horndogs are desperate to get arrested by this...   \n",
       "1  This bricklaying robot is going to destroy con...   \n",
       "2  ‘The Daily Show’ skewers Sean Spicer’s press c...   \n",
       "0  4 GOP Senators Flag Concerns With Medicaid Cut...   \n",
       "0  Redesigned 390 Madison Ave. snags another trop...   \n",
       "4  Trump is a party of one after he declares war ...   \n",
       "\n",
       "                                             content  cluster  \n",
       "4  When   Donald Trump was stirring controversy a...        4  \n",
       "2   Ian Burkhart shouldn’t be able to move his ha...        2  \n",
       "2  GOP nominee for attorney general lets loose at...        2  \n",
       "1   Charlie Sheen’s   is claiming the “Two and Ha...        1  \n",
       "2  A German policewoman has been swamped with mes...        2  \n",
       "1  Robot bricklayers are putting thousands of con...        1  \n",
       "2  “The Daily Show” took aim at White House Press...        2  \n",
       "0  Four Republicans senators hailing from states ...        0  \n",
       "0  The law has spoken at 390 Madison Ave.  —   an...        0  \n",
       "4  Donald Trump launched a political nuclear   on...        4  "
      ]
     },
     "execution_count": 14,
     "metadata": {},
     "output_type": "execute_result"
    }
   ],
   "source": [
    "# Create dataframe\n",
    "\n",
    "docs = {'title' : titles, 'content' : contents, 'cluster' : cluster_labels}\n",
    "df = pd.DataFrame(docs, index = [cluster_labels], columns = ['title', 'content', 'cluster'])\n",
    "df.head(10)"
   ]
  },
  {
   "cell_type": "code",
   "execution_count": 15,
   "metadata": {},
   "outputs": [
    {
     "name": "stdout",
     "output_type": "stream",
     "text": [
      "Number of documents included in each cluster:\n"
     ]
    },
    {
     "data": {
      "text/html": [
       "<div>\n",
       "<style scoped>\n",
       "    .dataframe tbody tr th:only-of-type {\n",
       "        vertical-align: middle;\n",
       "    }\n",
       "\n",
       "    .dataframe tbody tr th {\n",
       "        vertical-align: top;\n",
       "    }\n",
       "\n",
       "    .dataframe thead th {\n",
       "        text-align: right;\n",
       "    }\n",
       "</style>\n",
       "<table border=\"1\" class=\"dataframe\">\n",
       "  <thead>\n",
       "    <tr style=\"text-align: right;\">\n",
       "      <th></th>\n",
       "      <th>cluster</th>\n",
       "    </tr>\n",
       "  </thead>\n",
       "  <tbody>\n",
       "    <tr>\n",
       "      <th>2</th>\n",
       "      <td>34</td>\n",
       "    </tr>\n",
       "    <tr>\n",
       "      <th>0</th>\n",
       "      <td>22</td>\n",
       "    </tr>\n",
       "    <tr>\n",
       "      <th>1</th>\n",
       "      <td>21</td>\n",
       "    </tr>\n",
       "    <tr>\n",
       "      <th>4</th>\n",
       "      <td>17</td>\n",
       "    </tr>\n",
       "    <tr>\n",
       "      <th>3</th>\n",
       "      <td>6</td>\n",
       "    </tr>\n",
       "  </tbody>\n",
       "</table>\n",
       "</div>"
      ],
      "text/plain": [
       "   cluster\n",
       "2       34\n",
       "0       22\n",
       "1       21\n",
       "4       17\n",
       "3        6"
      ]
     },
     "execution_count": 15,
     "metadata": {},
     "output_type": "execute_result"
    }
   ],
   "source": [
    "print('Number of documents included in each cluster:')\n",
    "df['cluster'].value_counts().to_frame()"
   ]
  },
  {
   "cell_type": "code",
   "execution_count": 16,
   "metadata": {
    "scrolled": false
   },
   "outputs": [
    {
     "name": "stdout",
     "output_type": "stream",
     "text": [
      "Document Clustering Result by K-Means:\n",
      "\n",
      "Cluster 0 words: clintons, republicans, hillary, courting, elected, trump, \n",
      "Cluster 0 titles ( 22 documents):\n",
      "4 GOP Senators Flag Concerns With Medicaid Cuts In House O’Care Draft Bill\n",
      "Redesigned 390 Madison Ave. snags another trophy tenant\n",
      "National Democrats Slander Minnesota’s Jason Lewis\n",
      "Take To The Streets For A New Progressive Supreme Court Justice\n",
      "Hillary Clinton Mocks Bonkers GOP Debate With Meme Of Her Looking Bored\n",
      " New Ad Attacks Trump On Iran Stances\n",
      " A President Just Got Inaugurated Outside His Country And Here’s Why\n",
      "Democrats fire warning shots at Hillary — and she better listen\n",
      "Two Awful Candidates Heading to a Close Election\n",
      "New York’s most intriguing congressional race\n",
      "The Supreme Court Must Restore Religious Liberty to Military Members\n",
      "Why Cruz’s Choreographed Courting of Evangelicals Won’t Work\n",
      "Gennifer Flowers ‘agrees’ to sit front row at first debate\n",
      "Can the GOP Kill Obamacare?\n",
      "The Wrong Answer to the South China Sea\n",
      "Texas governor signs ’sanctuary cities’ ban in ceremony held without notice\n",
      "Trump Is Rising — and So Is Boris Johnson\n",
      "Republicans Buy Time In Case That Could Destabilize Obamacare\n",
      "FBI releases documents on Bill Clinton’s 2001 pardon of financier Rich\n",
      " John Bolton Says Election Hacking Could Have Been A “False Flag”\n",
      "Ted Nugent Blames Jews For Gun Control In Anti-Semitic Facebook Rant\n",
      "The Clintons: America’s Luckiest Political Family\n",
      "\n",
      "Cluster 1 words: said, companies, reported, officials, attacks, pay, \n",
      "Cluster 1 titles ( 21 documents):\n",
      " Charlie Sheen Behind $89,398 In Child Support, Ex-Wife Claims\n",
      "This bricklaying robot is going to destroy construction jobs\n",
      "At least 50 killed in bomb attack targeting wedding in Turkey\n",
      "Obama set to push for ‘smart gun’ tech despite concerns\n",
      " Zika Virus Updates: Few Pregnant Travelers Are Infected With Zika\n",
      "Jürgen Klopp says Liverpool ‘should not go nuts’ despite win over Tottenham\n",
      "Louvre reopens as Egypt identifies machete attacker\n",
      "Soon you’ll be able to go to work in a flying taxi\n",
      "Carson accuses Cruz camp of spreading false rumors on campaign suspension\n",
      "Budweiser Will Call Its Beer ’America’ Through the Election\n",
      "Zara pulls denim skirt over likeness to ’alt-right’ mascot Pepe the Frog\n",
      "Obama’s New Equal-Pay Rules\n",
      "Uber accused of ’calculated theft’ of Google’s self-driving car technology\n",
      " Trump Posted A False News Report To His Facebook Page And Got Thousands Of Shares\n",
      "Subway rider beaten up by dancers says he was protecting fiancée\n",
      "Subway’s latest setback is a first for the company\n",
      "GOP senators call for probe into Susan Rice ‘unmasking’ reports\n",
      "Zika’s Growing Presence in Florida\n",
      "Wikileaks DNC email dump sparks malware fears\n",
      "SunEdison’s Subsidy-Fueled Collapse\n",
      "Airlines waive fees ahead of potentially historic East Coast storm\n",
      "\n",
      "Cluster 2 words: say, like, women, said, years, thing, \n",
      "Cluster 2 titles ( 34 documents):\n",
      " A Paralysed Man Can Play “Guitar Hero” Using A Computer That Reads His Thoughts\n",
      "’Keep Our State Straight!’\n",
      "Horndogs are desperate to get arrested by this sexy cop\n",
      "‘The Daily Show’ skewers Sean Spicer’s press conferences\n",
      "That Big Bomb\n",
      "Novak Djokovic loses cool and Shanghai semi-final against Roberto Bautista Agut\n",
      "Why Giants could draft Ezekiel Elliott — if he’s there at No. 10\n",
      "The Return of Radical Chic\n",
      "Johnny Manziel may be fumbling, but his sister is ready for the spotlight\n",
      "Ralph Branca gave Shot Heard ’Round the World its perfect dignity\n",
      "How I escaped a serial killer\n",
      "Colin Kaepernick’s Continuing Protest\n",
      "BREAKING\n",
      "Depeche Mode rails against the alt-right\n",
      "Joan Rivers’ old haunted house for sale\n",
      "The inside story of the band that defined the 2000s\n",
      "The Joys and Disappointments of Being a Supertaster\n",
      "Gigi Hadid just got a boot named after her\n",
      "Lee Westwood enters Ryder Cup on verge of history\n",
      "The brave new world of the xx, pop’s brooding perfectionists\n",
      "Don’t fall for this ‘Google Docs’ scam\n",
      "Chance the Politician\n",
      " Nothing Compares 2 These Stories This Week\n",
      "Mother of Columbine killer Dylan Klebold said she never realized her son was troubled\n",
      "Rupi Kaur: ’There was no market for poetry about trauma, abuse and healing’\n",
      "The Dystopian World of The Handmaid’s Tale Bears No Resemblance to Trump’s America\n",
      "‘Bachelor’ Ben calls off wedding — is the engagement next?\n",
      "Your Townhall Roundup\n",
      "Why Superhero Movies Are Headed in the Wrong Direction \n",
      "The Women’s March reminded us: we are not alone\n",
      "There’s a new holiday shopping nightmare\n",
      "These three words just changed everything on ‘The Walking Dead’\n",
      "Stop shaming women for wearing high heels\n",
      "World leaders react to Fidel Castro’s death\n",
      "\n",
      "Cluster 3 words: student, school, said, university, increased, human, \n",
      "Cluster 3 titles ( 6 documents):\n",
      "Ex-students say boarding school tortured them in isolation boxes\n",
      "The End of Busing in Indianapolis\n",
      "Nineteen states to ring in new year with higher minimum wages\n",
      "Spending $1 Million to Get Rid of a Single Bureaucrat\n",
      "The death of the English major\n",
      "Should Professors Be Fired for Damaging a College’s Reputation?\n",
      "\n",
      "Cluster 4 words: trump, president, said, republicans, campaigns, ban, \n",
      "Cluster 4 titles ( 17 documents):\n",
      "Do Republicans Remember When They Promised They’d Be A Check On Trump?\n",
      "Trump is a party of one after he declares war on Republicans\n",
      "It’s Tough Going Through Life Stupid\n",
      "‘Stay Away’: A ‘Never Trumper’ on Serving in the Trump Administration\n",
      "Trump banned refugees on Holocaust Remembrance Day. That says everything\n",
      "Did Trump’s Financial Ties Influence the Immigration Order?\n",
      "Late-night TV hosts skewer Michael Flynn: ’It’s funny ’cause it’s treason’\n",
      "Pence Does What Trump Couldn’t, with Solid Debate\n",
      "After Trump’s sweep, does Cruz-Kasich Hail Mary have a prayer?\n",
      "The End of Trump Taj Mahal \n",
      "Trump threatens to abandon Scotland deal as UK debates banning him\n",
      " Here are 100 Lies and False Statements From Trump’s First 100 Days\n",
      "Trump Announces Chris Christie Will Take Charge Of His Transition Team\n",
      "A Party Is Only as Good as Its Principles\n",
      "Total Meltdown: Sessions Rift Exposes Trump In Free Fall\n",
      "The Timeline Gets Tighter\n",
      " Can Steve Bannon Survive The Media’s Steve Bannon Obsession?\n",
      "\n"
     ]
    }
   ],
   "source": [
    "# Get the center coordinates of each cluster.\n",
    "# For each cluster center, get the k largest coordinate values. These represent the k most important words for this cluster.\n",
    "\n",
    "print(\"Document Clustering Result by K-Means:\")\n",
    "print()\n",
    "# km.cluster_centers_ denotes the importance of each term in centroid.\n",
    "# We sort it in decreasing order and get the top k items.\n",
    "k = 6\n",
    "order_centroids = km.cluster_centers_.argsort(axis = -1)[:, ::-1] # axis = -1 means the last axis\n",
    "\n",
    "cluster_keywords_summary = {} # key is the cluster ID, value is a list of keywords\n",
    "for i in range(num_clusters):\n",
    "    print('Cluster', str(i), 'words: ', end = '')\n",
    "    cluster_keywords_summary[i]  = []\n",
    "    for ind in order_centroids[i, :k]:\n",
    "        cluster_keywords_summary[i].append(dict_stem_orig[tf_selected_words[ind]])\n",
    "        print(dict_stem_orig[tf_selected_words[ind]] + ', ', end = '')\n",
    "    print()\n",
    "    cluster_titles = df.ix[i]['title'].to_numpy().tolist()\n",
    "    print('Cluster', str(i), 'titles', \"(\", str(len(cluster_titles)), 'documents):')\n",
    "    print(*cluster_titles, sep = '\\n')\n",
    "    print()"
   ]
  },
  {
   "cell_type": "code",
   "execution_count": 17,
   "metadata": {
    "scrolled": true
   },
   "outputs": [
    {
     "data": {
      "text/plain": [
       "{0: ['clintons', 'republicans', 'hillary', 'courting', 'elected', 'trump'],\n",
       " 1: ['said', 'companies', 'reported', 'officials', 'attacks', 'pay'],\n",
       " 2: ['say', 'like', 'women', 'said', 'years', 'thing'],\n",
       " 3: ['student', 'school', 'said', 'university', 'increased', 'human'],\n",
       " 4: ['trump', 'president', 'said', 'republicans', 'campaigns', 'ban']}"
      ]
     },
     "execution_count": 17,
     "metadata": {},
     "output_type": "execute_result"
    }
   ],
   "source": [
    "cluster_keywords_summary"
   ]
  },
  {
   "cell_type": "markdown",
   "metadata": {},
   "source": [
    "### 5.2 Plot K-Means Result"
   ]
  },
  {
   "cell_type": "code",
   "execution_count": 18,
   "metadata": {},
   "outputs": [],
   "source": [
    "pca = PCA(n_components = 2)\n",
    "\n",
    "# convert sparse matrix to arrays\n",
    "tfidf_matrix_np = tfidf_matrix.toarray()\n",
    "\n",
    "pca.fit(tfidf_matrix_np)\n",
    "X = pca.transform(tfidf_matrix_np)\n",
    "xs, ys = X[:, 0], X[:, 1]\n",
    "\n",
    "# set up colors per cluster using a dict\n",
    "cluster_colors = {0 : '#1b9e77', 1 : '#d95f02', 2 : '#7570b3', 3 : '#e7298a', 4 : '#66a61e'}\n",
    "\n",
    "# set up cluster names using a dict\n",
    "cluster_names = {}\n",
    "\n",
    "for i in range(num_clusters):\n",
    "    cluster_names[i] = ', '.join(cluster_keywords_summary[i])"
   ]
  },
  {
   "cell_type": "code",
   "execution_count": 19,
   "metadata": {},
   "outputs": [
    {
     "data": {
      "image/png": "[encoded data removed]",
      "text/plain": [
       "<Figure size 1152x648 with 1 Axes>"
      ]
     },
     "metadata": {
      "needs_background": "light"
     },
     "output_type": "display_data"
    }
   ],
   "source": [
    "# create dataframe with PCA cluster result\n",
    "df_pca = pd.DataFrame(dict(x = xs, y = ys, cluster = cluster_labels, title = titles))\n",
    "groups = df_pca.groupby(by = cluster_labels)\n",
    "\n",
    "# plot\n",
    "fig, ax = plt.subplots(figsize = (16, 9))\n",
    "for name, group in groups:\n",
    "    ax.plot(group.x, group.y, marker = 'o', linestyle = '', markersize = 12, label = cluster_names[name], \n",
    "            markeredgecolor = 'none', color = cluster_colors[name])\n",
    "ax.legend(numpoints = 1, loc = 4)\n",
    "plt.show()"
   ]
  },
  {
   "cell_type": "markdown",
   "metadata": {},
   "source": [
    "## 6. Topic Modeling - Latent Dirichlet Allocation"
   ]
  },
  {
   "cell_type": "code",
   "execution_count": 20,
   "metadata": {},
   "outputs": [],
   "source": [
    "# Build a dictionary for terms with their indices: {term1 : index1, term2 : index2, ...}\n",
    "dict_term_index = {tf_selected_words[i] : i for i in range(len(tf_selected_words))}\n",
    "\n",
    "# Build a feature matrix with shape of (number of documents, number of terms); each item equals the frequency \n",
    "# of the term in the corresponding document.\n",
    "feat_matrix = []\n",
    "for i in contents:\n",
    "    cur_doc_tf = [0] * len(tf_selected_words) # build a list of zeros\n",
    "    doc_words_stemmed = tokenization_and_stemming(i) # a list of stemmed words in current document\n",
    "    for word in doc_words_stemmed:\n",
    "        if word in tf_selected_words:\n",
    "            cur_doc_tf[dict_term_index[word]] += 1\n",
    "    cur_doc_tf = np.asarray(cur_doc_tf)\n",
    "    feat_matrix.append(cur_doc_tf)\n",
    "feat_matrix = np.asarray(feat_matrix) # 2-D numpy array    "
   ]
  },
  {
   "cell_type": "code",
   "execution_count": 21,
   "metadata": {},
   "outputs": [],
   "source": [
    "# create the LDA model\n",
    "\n",
    "lda_model = lda.LDA(n_topics = 5, n_iter = 2000, random_state = 1)"
   ]
  },
  {
   "cell_type": "markdown",
   "metadata": {},
   "source": [
    "**\"lda.LDA.topic_word_\"** saves the importance of terms in LDA model, i.e., p(word|topic). The shape is (number of topics, number of terms).<br>\n",
    "**\"lda.LDA.doc_topic_\"** saves the document topic results, i.e., p(topic|document). The shape is (number of documents, number of topics)."
   ]
  },
  {
   "cell_type": "code",
   "execution_count": null,
   "metadata": {},
   "outputs": [],
   "source": [
    "# Fit the LDA model\n",
    "\n",
    "lda_model.fit(feat_matrix)"
   ]
  },
  {
   "cell_type": "code",
   "execution_count": 23,
   "metadata": {},
   "outputs": [],
   "source": [
    "# Calculate p(word|topic), get a list of keywords for each topic \n",
    "\n",
    "topic_word = lda_model.topic_word_\n",
    "\n",
    "# get the top words for each topic\n",
    "n_top_words = 7\n",
    "topic_keywords_list = []\n",
    "\n",
    "for _, topic_dist in enumerate(topic_word): # get each row of topic_word, which is the word distribution of the topic\n",
    "    cur_topic_keywords = np.array(tf_selected_words)[np.argsort(topic_dist)][:-n_top_words-1:-1]\n",
    "    for i in range(len(cur_topic_keywords)):\n",
    "        cur_topic_keywords[i] = dict_stem_orig[cur_topic_keywords[i]]\n",
    "    topic_keywords_list.append(cur_topic_keywords.tolist())"
   ]
  },
  {
   "cell_type": "code",
   "execution_count": 24,
   "metadata": {
    "scrolled": false
   },
   "outputs": [
    {
     "name": "stdout",
     "output_type": "stream",
     "text": [
      "Document clustering result by LDA:\n",
      "\n",
      "Cluster 0 words: trump, republican, president, clintons, campaigns, elected, political\n",
      "Cluster 0 documents ( 18 documents):\n",
      "Do Republicans Remember When They Promised They’d Be A Check On Trump?\n",
      "Trump is a party of one after he declares war on Republicans\n",
      "Take To The Streets For A New Progressive Supreme Court Justice\n",
      "It’s Tough Going Through Life Stupid\n",
      "‘Stay Away’: A ‘Never Trumper’ on Serving in the Trump Administration\n",
      "Hillary Clinton Mocks Bonkers GOP Debate With Meme Of Her Looking Bored\n",
      " New Ad Attacks Trump On Iran Stances\n",
      "Democrats fire warning shots at Hillary — and she better listen\n",
      "BREAKING\n",
      "Two Awful Candidates Heading to a Close Election\n",
      "New York’s most intriguing congressional race\n",
      "After Trump’s sweep, does Cruz-Kasich Hail Mary have a prayer?\n",
      "Why Cruz’s Choreographed Courting of Evangelicals Won’t Work\n",
      " Here are 100 Lies and False Statements From Trump’s First 100 Days\n",
      "Trump Is Rising — and So Is Boris Johnson\n",
      "Trump Announces Chris Christie Will Take Charge Of His Transition Team\n",
      "FBI releases documents on Bill Clinton’s 2001 pardon of financier Rich\n",
      "The Clintons: America’s Luckiest Political Family\n",
      "\n",
      "Cluster 3 words: said, say, like, comes, used, want, times\n",
      "Cluster 3 documents ( 40 documents):\n",
      " A Paralysed Man Can Play “Guitar Hero” Using A Computer That Reads His Thoughts\n",
      "Horndogs are desperate to get arrested by this sexy cop\n",
      "This bricklaying robot is going to destroy construction jobs\n",
      "‘The Daily Show’ skewers Sean Spicer’s press conferences\n",
      "National Democrats Slander Minnesota’s Jason Lewis\n",
      "At least 50 killed in bomb attack targeting wedding in Turkey\n",
      "That Big Bomb\n",
      "Novak Djokovic loses cool and Shanghai semi-final against Roberto Bautista Agut\n",
      "Why Giants could draft Ezekiel Elliott — if he’s there at No. 10\n",
      "Ex-students say boarding school tortured them in isolation boxes\n",
      "Johnny Manziel may be fumbling, but his sister is ready for the spotlight\n",
      "Ralph Branca gave Shot Heard ’Round the World its perfect dignity\n",
      "How I escaped a serial killer\n",
      "Jürgen Klopp says Liverpool ‘should not go nuts’ despite win over Tottenham\n",
      "Louvre reopens as Egypt identifies machete attacker\n",
      "Late-night TV hosts skewer Michael Flynn: ’It’s funny ’cause it’s treason’\n",
      "Colin Kaepernick’s Continuing Protest\n",
      "Depeche Mode rails against the alt-right\n",
      "Soon you’ll be able to go to work in a flying taxi\n",
      "Pence Does What Trump Couldn’t, with Solid Debate\n",
      "Carson accuses Cruz camp of spreading false rumors on campaign suspension\n",
      "Joan Rivers’ old haunted house for sale\n",
      "The inside story of the band that defined the 2000s\n",
      "Zara pulls denim skirt over likeness to ’alt-right’ mascot Pepe the Frog\n",
      "The Joys and Disappointments of Being a Supertaster\n",
      "Subway rider beaten up by dancers says he was protecting fiancée\n",
      "Gigi Hadid just got a boot named after her\n",
      "Lee Westwood enters Ryder Cup on verge of history\n",
      "Gennifer Flowers ‘agrees’ to sit front row at first debate\n",
      "The brave new world of the xx, pop’s brooding perfectionists\n",
      "Don’t fall for this ‘Google Docs’ scam\n",
      "Mother of Columbine killer Dylan Klebold said she never realized her son was troubled\n",
      "Rupi Kaur: ’There was no market for poetry about trauma, abuse and healing’\n",
      "‘Bachelor’ Ben calls off wedding — is the engagement next?\n",
      "Why Superhero Movies Are Headed in the Wrong Direction \n",
      " John Bolton Says Election Hacking Could Have Been A “False Flag”\n",
      "The Women’s March reminded us: we are not alone\n",
      "These three words just changed everything on ‘The Walking Dead’\n",
      "World leaders react to Fidel Castro’s death\n",
      "The Timeline Gets Tighter\n",
      "\n",
      "Cluster 4 words: new, people, years, making, women, news, times\n",
      "Cluster 4 documents ( 21 documents):\n",
      "’Keep Our State Straight!’\n",
      "4 GOP Senators Flag Concerns With Medicaid Cuts In House O’Care Draft Bill\n",
      "Redesigned 390 Madison Ave. snags another trophy tenant\n",
      "The Return of Radical Chic\n",
      " Zika Virus Updates: Few Pregnant Travelers Are Infected With Zika\n",
      "Nineteen states to ring in new year with higher minimum wages\n",
      " A President Just Got Inaugurated Outside His Country And Here’s Why\n",
      "Spending $1 Million to Get Rid of a Single Bureaucrat\n",
      "The End of Trump Taj Mahal \n",
      "Can the GOP Kill Obamacare?\n",
      "Chance the Politician\n",
      " Nothing Compares 2 These Stories This Week\n",
      "Subway’s latest setback is a first for the company\n",
      "The Dystopian World of The Handmaid’s Tale Bears No Resemblance to Trump’s America\n",
      "A Party Is Only as Good as Its Principles\n",
      "Zika’s Growing Presence in Florida\n",
      "There’s a new holiday shopping nightmare\n",
      "Ted Nugent Blames Jews For Gun Control In Anti-Semitic Facebook Rant\n",
      "Stop shaming women for wearing high heels\n",
      "Airlines waive fees ahead of potentially historic East Coast storm\n",
      " Can Steve Bannon Survive The Media’s Steve Bannon Obsession?\n",
      "\n",
      "Cluster 1 words: state, reported, country, companies, nationalis, courting, including\n",
      "Cluster 1 documents ( 19 documents):\n",
      " Charlie Sheen Behind $89,398 In Child Support, Ex-Wife Claims\n",
      "Obama set to push for ‘smart gun’ tech despite concerns\n",
      "Trump banned refugees on Holocaust Remembrance Day. That says everything\n",
      "Did Trump’s Financial Ties Influence the Immigration Order?\n",
      "Budweiser Will Call Its Beer ’America’ Through the Election\n",
      "Obama’s New Equal-Pay Rules\n",
      "Uber accused of ’calculated theft’ of Google’s self-driving car technology\n",
      "The Supreme Court Must Restore Religious Liberty to Military Members\n",
      " Trump Posted A False News Report To His Facebook Page And Got Thousands Of Shares\n",
      "Trump threatens to abandon Scotland deal as UK debates banning him\n",
      "The Wrong Answer to the South China Sea\n",
      "Texas governor signs ’sanctuary cities’ ban in ceremony held without notice\n",
      "Should Professors Be Fired for Damaging a College’s Reputation?\n",
      "Republicans Buy Time In Case That Could Destabilize Obamacare\n",
      "GOP senators call for probe into Susan Rice ‘unmasking’ reports\n",
      "Your Townhall Roundup\n",
      "Wikileaks DNC email dump sparks malware fears\n",
      "Total Meltdown: Sessions Rift Exposes Trump In Free Fall\n",
      "SunEdison’s Subsidy-Fueled Collapse\n",
      "\n",
      "Cluster 2 words: school, student, public, university, said, years, college\n",
      "Cluster 2 documents ( 2 documents):\n",
      "The End of Busing in Indianapolis\n",
      "The death of the English major\n",
      "\n"
     ]
    }
   ],
   "source": [
    "# Calculate p(topic|document), assign the most possible topic to each document, and do document clustering.\n",
    "\n",
    "doc_topic = lda_model.doc_topic_\n",
    "\n",
    "topic_doc_dict = {} # key is topic ID, value is list of documents with this topic\n",
    "for i in range(len(doc_topic)):\n",
    "    topicID = doc_topic[i].argmax()\n",
    "    if topicID not in topic_doc_dict:\n",
    "        topic_doc_dict[topicID] = [titles[i]] # if topicID not in the dictionary yet\n",
    "    else:\n",
    "        topic_doc_dict[topicID].append(titles[i])\n",
    "\n",
    "print(\"Document clustering result by LDA:\")  \n",
    "print()\n",
    "for topic in topic_doc_dict:\n",
    "    print('Cluster', str(topic), 'words:', ', '.join(topic_keywords_list[topic]))\n",
    "    print('Cluster', str(topic), 'documents (', str(len(topic_doc_dict[topic])), 'documents):')\n",
    "    print(*topic_doc_dict[topic], sep = '\\n')\n",
    "    print()"
   ]
  }
 ],
 "metadata": {
  "kernelspec": {
   "display_name": "Python [conda env:py3]",
   "language": "python",
   "name": "conda-env-py3-py"
  },
  "language_info": {
   "codemirror_mode": {
    "name": "ipython",
    "version": 3
   },
   "file_extension": ".py",
   "mimetype": "text/x-python",
   "name": "python",
   "nbconvert_exporter": "python",
   "pygments_lexer": "ipython3",
   "version": "3.6.8"
  }
 },
 "nbformat": 4,
 "nbformat_minor": 2
}
